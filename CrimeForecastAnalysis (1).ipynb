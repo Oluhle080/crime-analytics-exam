{
  "nbformat": 4,
  "nbformat_minor": 0,
  "metadata": {
    "colab": {
      "provenance": []
    },
    "kernelspec": {
      "name": "python3",
      "display_name": "Python 3"
    },
    "language_info": {
      "name": "python"
    }
  },
  "cells": [
    {
      "cell_type": "markdown",
      "source": [
        "Student Number: 22325286\n",
        "Luthuli O"
      ],
      "metadata": {
        "id": "AmSAHER9pafy"
      }
    },
    {
      "cell_type": "markdown",
      "source": [
        "Dataset And Justification\n",
        "\n",
        "Dataset1:Crime Stats of South Africa 2011-2023 by (Kaggle)\n",
        "[https://www.kaggle.com/datasets/harutyunagababyan/crime-stats-of-south-africa-2011-2023]\n",
        "\n",
        "Relevance:  \n",
        "This dataset is crucial because it provides detailed, official counts of different types of crimes across South Africa over a long period (2011-2023). It covers multiple crime categories and geographic units, which allows me to identify high crime areas (hotspots) and study crime trends over time. This helps in forecasting future crime patterns and supporting better resource allocation for law enforcement. The data is directly tied to crime incidents rather than case reports, giving a more accurate picture of the criminal activity levels. Understanding these spatial and temporal patterns is essential for developing data-driven strategies to reduce crime.\n",
        "\n",
        "Dataset2:General Household Survey Data from 2012 to 2022 by (Kaggle)\n",
        "[https://www.kaggle.com/datasets/viroshensewpaul/general-household-survey-data-from-2012-to-2022]\n",
        "\n",
        "Relevance:\n",
        "This dataset provides detailed demographic and socioeconomic information across South African provinces over a 10-year period. It includes important variables like population size, unemployment rate, education levels, and household characteristics that help explain underlying factors influencing crime. Using this data alongside crime statistics allows me to build more accurate hotspot classification models by linking social context to crime occurrence. The multi-year and multi-level data structure supports analysis of trends and relationships between social conditions and crime patterns.\n",
        "\n"
      ],
      "metadata": {
        "id": "bSn5dUmHq58N"
      }
    },
    {
      "cell_type": "markdown",
      "source": [
        "Importing Required Libraries\n",
        "\n",
        "To begin the analysis, I will import all essential Python libraries needed for data manipulation, visualization, and modeling. These include pandas and numpy for data handling, matplotlib and seaborn for plotting, and scikit-learn for machine learning tasks.\n"
      ],
      "metadata": {
        "id": "OoBRbcmitjHK"
      }
    },
    {
      "cell_type": "code",
      "source": [
        "import pandas as pd\n",
        "import numpy as np\n",
        "import matplotlib.pyplot as plt\n",
        "import seaborn as sns\n",
        "import os\n",
        "from sklearn.model_selection import train_test_split\n",
        "from sklearn.preprocessing import StandardScaler, LabelEncoder\n",
        "from sklearn.linear_model import LogisticRegression, LinearRegression\n",
        "from sklearn.metrics import accuracy_score, classification_report, mean_squared_error\n",
        "from sklearn.ensemble import RandomForestClassifier"
      ],
      "metadata": {
        "id": "ULcwho0UwqCH"
      },
      "execution_count": null,
      "outputs": []
    },
    {
      "cell_type": "markdown",
      "source": [
        " Accessing Dataset from Google Drive\n",
        "In this step, we mount Google Drive to Google Colab.\n",
        "This allows us to directly access the dataset files that are stored in our group’s Drive folder.\n",
        "\n",
        "drive.mount('/content/drive') → connects Colab to Google Drive.\n",
        "Once mounted, we can navigate folders and load our dataset for preprocessing.\n",
        "This is important because our dataset is too large to upload manually every time, and Google Drive provides a permanent, shareable storage location for the group and lecturer."
      ],
      "metadata": {
        "id": "pJQ7zBW2xeTq"
      }
    },
    {
      "cell_type": "code",
      "source": [
        "print(\"Mounting Google Drive...\")\n",
        "drive.mount('/content/drive')"
      ],
      "metadata": {
        "colab": {
          "base_uri": "https://localhost:8080/"
        },
        "id": "U3w3NhOFyIY8",
        "outputId": "7bd0c57a-76be-4393-c18d-355b2382130e"
      },
      "execution_count": 46,
      "outputs": [
        {
          "output_type": "stream",
          "name": "stdout",
          "text": [
            "Mounting Google Drive...\n",
            "Drive already mounted at /content/drive; to attempt to forcibly remount, call drive.mount(\"/content/drive\", force_remount=True).\n"
          ]
        }
      ]
    },
    {
      "cell_type": "markdown",
      "source": [
        "### List Files in GHS_Survey_Data and Crime_Statistics Folders\n",
        "\n",
        "This code lists all files in each of your two main dataset folders in Google Drive.\n"
      ],
      "metadata": {
        "id": "pu4Yg2Ac9Z7O"
      }
    },
    {
      "cell_type": "code",
      "source": [
        "import os\n",
        "\n",
        "# Define paths for each dataset\n",
        "ghs_path = '/content/drive/MyDrive/GHS_Survey_Data'\n",
        "crime_path = '/content/drive/MyDrive/Crime_Statistics'\n",
        "\n",
        "# List files in the GHS survey folder\n",
        "print(\"Files in GHS_Survey_Data folder:\", os.listdir(ghs_path))\n",
        "\n",
        "# List files in the crime statistics folder\n",
        "print(\"Files in Crime_Statistics folder:\", os.listdir(crime_path))\n"
      ],
      "metadata": {
        "colab": {
          "base_uri": "https://localhost:8080/"
        },
        "id": "31VXLA3-DtvB",
        "outputId": "78757a47-43c3-4ddb-cc69-2021b7b122e0"
      },
      "execution_count": 19,
      "outputs": [
        {
          "output_type": "stream",
          "name": "stdout",
          "text": [
            "Files in GHS_Survey_Data folder: ['greatlearning-brand-v1-2.svg', 'ghs-2018-person-v1.csv', 'ghs-2017-person-1.0.csv', 'ghs-2019-person-v1.csv', 'ghs-2021-person-v1.csv', 'ghs-2020-person-v1.csv', 'ghs-2014-person-v1.csv', 'ghs-2022-person-v1.csv', 'ghs-2016-person-v1.csv', 'ghs-2015-person-v1.csv', 'ghs-2013-person-v1.csv']\n",
            "Files in Crime_Statistics folder: ['contact_related_crime_incidents_by_category.csv', 'aggravated_robbery_incidents_by_category.csv', 'crimes_detected_as_a_result_of_police_action.csv', 'sexual_offence_incidents_by_category.csv', 'contact_crime_incidents_by_category.csv', 'property_related_crime_incidents_by_category.csv', 'other_serious_crime_incidents_by_category.csv']\n"
          ]
        }
      ]
    },
    {
      "cell_type": "markdown",
      "source": [
        "### Previewing Your Datasets\n",
        "\n",
        "This notebook cell previews one file from each of your main data folders—GHS survey data and crime statistics. This helps you understand the data structures and column names before further analysis.\n"
      ],
      "metadata": {
        "id": "Do-fIx5OpY4R"
      }
    },
    {
      "cell_type": "code",
      "source": [
        "import pandas as pd\n",
        "\n",
        "# Preview a General Household Survey (GHS) data file\n",
        "ghs_file = '/content/drive/MyDrive/GHS_Survey_Data/ghs-2018-person-v1.csv'  # Change to a filename you have\n",
        "df_ghs = pd.read_csv(ghs_file)\n",
        "print(\"GHS Survey Data preview:\")\n",
        "print(df_ghs.head())\n",
        "print(df_ghs.columns)\n",
        "\n",
        "# Preview a Crime Statistics data file\n",
        "crime_file = '/content/drive/MyDrive/Crime_Statistics/contact_related_crime_incidents_by_category.csv'  # Change to a filename you have\n",
        "df_crime = pd.read_csv(crime_file)\n",
        "print(\"\\nCrime Statistics Data preview:\")\n",
        "print(df_crime.head())\n",
        "print(df_crime.columns)\n"
      ],
      "metadata": {
        "colab": {
          "base_uri": "https://localhost:8080/"
        },
        "id": "BBHJuu6jEOs9",
        "outputId": "d72e1f53-d4ec-4015-e4fe-e342f33e6604"
      },
      "execution_count": 20,
      "outputs": [
        {
          "output_type": "stream",
          "name": "stdout",
          "text": [
            "GHS Survey Data preview:\n",
            "                 UqNr  PersonNR          PSU  Prov  B_Nights  Gender  Age  \\\n",
            "0  160100720000002201         1  16010072000     1         1       1   19   \n",
            "1  160100720000005901         1  16010072000     1         1       1   31   \n",
            "2  160100720000005901         2  16010072000     1         1       2   25   \n",
            "3  160100720000005901         3  16010072000     1         1       2    1   \n",
            "4  160101220000002601         1  16010122000     1         1       2   71   \n",
            "\n",
            "   Age_grp1  Race  F_Linsidehh  ...  Literacy3b  stratum  geotype    Q42msal  \\\n",
            "0         4     2            1  ...           0    10301        3       2900   \n",
            "1         7     1            9  ...           0    10301        3      12480   \n",
            "2         6     1            9  ...           0    10301        3       8960   \n",
            "3         1     1            9  ...           0    10301        3  888888888   \n",
            "4        15     2            1  ...           0    10103        1  888888888   \n",
            "\n",
            "   Metro_code  Metro  employ_Status1  employ_Status2  Rotation   person_wgt  \n",
            "0           1      2               1               1         3   974.509552  \n",
            "1           1      2               1               1         3  1896.300138  \n",
            "2           1      2               1               1         3  1896.300138  \n",
            "3           1      2               8               8         3  1896.300138  \n",
            "4           1      2               9               3         1   702.936011  \n",
            "\n",
            "[5 rows x 185 columns]\n",
            "Index(['UqNr', 'PersonNR', 'PSU', 'Prov', 'B_Nights', 'Gender', 'Age',\n",
            "       'Age_grp1', 'Race', 'F_Linsidehh',\n",
            "       ...\n",
            "       'Literacy3b', 'stratum', 'geotype', 'Q42msal', 'Metro_code', 'Metro',\n",
            "       'employ_Status1', 'employ_Status2', 'Rotation', 'person_wgt'],\n",
            "      dtype='object', length=185)\n",
            "\n",
            "Crime Statistics Data preview:\n",
            "  Geography Contact Related Crime Financial Year  Count\n",
            "0        ZA                 Arson      2011/2012   5996\n",
            "1        ZA                 Arson      2012/2013   5665\n",
            "2        ZA                 Arson      2013/2014   5458\n",
            "3        ZA                 Arson      2014/2015   5127\n",
            "4        ZA                 Arson      2015/2016   4903\n",
            "Index(['Geography', 'Contact Related Crime', 'Financial Year', 'Count'], dtype='object')\n"
          ]
        }
      ]
    },
    {
      "cell_type": "markdown",
      "source": [
        "### Summarizing Dataset Structure and Key Statistics\n",
        "\n",
        "Before performing any analysis, it is essential to briefly summarize the structure and key statistics of each dataset. This step helps identify data types, missing values, and major variables, providing a clear understanding of your available data and highlighting any potential issues.\n"
      ],
      "metadata": {
        "id": "OVL9_TXqGFb0"
      }
    },
    {
      "cell_type": "code",
      "source": [
        "# For summarizing the GHS Survey dataset\n",
        "print(\"GHS Survey Data structure:\")\n",
        "print(df_ghs.info())\n",
        "print(\"\\nGHS Survey Data summary statistics:\")\n",
        "print(df_ghs.describe(include='all'))\n",
        "\n",
        "# For summarizing the Crime Statistics dataset\n",
        "print(\"\\nCrime Statistics Data structure:\")\n",
        "print(df_crime.info())\n",
        "print(\"\\nCrime Statistics Data summary statistics:\")\n",
        "print(df_crime.describe(include='all'))\n"
      ],
      "metadata": {
        "colab": {
          "base_uri": "https://localhost:8080/"
        },
        "id": "ABkNvqAHGHgf",
        "outputId": "408ee287-8fec-4920-86b5-a8db5ebefe2b"
      },
      "execution_count": 22,
      "outputs": [
        {
          "output_type": "stream",
          "name": "stdout",
          "text": [
            "GHS Survey Data structure:\n",
            "<class 'pandas.core.frame.DataFrame'>\n",
            "RangeIndex: 71137 entries, 0 to 71136\n",
            "Columns: 185 entries, UqNr to person_wgt\n",
            "dtypes: float64(1), int64(184)\n",
            "memory usage: 100.4 MB\n",
            "None\n",
            "\n",
            "GHS Survey Data summary statistics:\n",
            "               UqNr      PersonNR           PSU          Prov  B_Nights  \\\n",
            "count  7.113700e+04  71137.000000  7.113700e+04  71137.000000   71137.0   \n",
            "mean   6.086199e+17      2.996387  6.086199e+10      5.280937       1.0   \n",
            "std    2.533917e+17      2.171288  2.533917e+10      2.550955       0.0   \n",
            "min    1.601007e+17      1.000000  1.601007e+10      1.000000       1.0   \n",
            "25%    3.771002e+17      1.000000  3.771002e+10      3.000000       1.0   \n",
            "50%    5.991434e+17      2.000000  5.991434e+10      5.000000       1.0   \n",
            "75%    7.991005e+17      4.000000  7.991005e+10      7.000000       1.0   \n",
            "max    9.871065e+17     22.000000  9.871065e+10      9.000000       1.0   \n",
            "\n",
            "             Gender           Age      Age_grp1          Race   F_Linsidehh  \\\n",
            "count  71137.000000  71137.000000  71137.000000  71137.000000  71137.000000   \n",
            "mean       1.526337     29.298396      6.444846      1.288092      6.291649   \n",
            "std        0.499309     20.622223      4.072443      0.750486      7.376927   \n",
            "min        1.000000      0.000000      1.000000      1.000000      1.000000   \n",
            "25%        1.000000     12.000000      3.000000      1.000000      4.000000   \n",
            "50%        2.000000     26.000000      6.000000      1.000000      5.000000   \n",
            "75%        2.000000     44.000000      9.000000      1.000000      8.000000   \n",
            "max        2.000000    108.000000     16.000000      4.000000     99.000000   \n",
            "\n",
            "       ...    Literacy3b       stratum       geotype       Q42msal  \\\n",
            "count  ...  71137.000000  71137.000000  71137.000000  7.113700e+04   \n",
            "mean   ...      0.226605  54763.827699      1.424041  6.368617e+08   \n",
            "std    ...      1.042204  26223.061976      0.563797  4.009010e+08   \n",
            "min    ...      0.000000  10101.000000      1.000000  0.000000e+00   \n",
            "25%    ...      0.000000  30102.000000      1.000000  2.213900e+04   \n",
            "50%    ...      0.000000  55111.000000      1.000000  8.888889e+08   \n",
            "75%    ...      0.000000  78101.000000      2.000000  8.888889e+08   \n",
            "max    ...      9.000000  90401.000000      3.000000  1.000000e+09   \n",
            "\n",
            "         Metro_code         Metro  employ_Status1  employ_Status2  \\\n",
            "count  71137.000000  71137.000000    71137.000000    71137.000000   \n",
            "mean      10.036451      1.635759        5.741133        3.842628   \n",
            "std        5.082728      0.481220        3.558702        2.842016   \n",
            "min        1.000000      1.000000        1.000000        1.000000   \n",
            "25%        6.000000      1.000000        1.000000        1.000000   \n",
            "50%       10.000000      2.000000        8.000000        3.000000   \n",
            "75%       15.000000      2.000000        9.000000        8.000000   \n",
            "max       17.000000      2.000000        9.000000        8.000000   \n",
            "\n",
            "           Rotation    person_wgt  \n",
            "count  71137.000000  71137.000000  \n",
            "mean       2.498053    807.706412  \n",
            "std        1.125003    360.544842  \n",
            "min        1.000000     50.000000  \n",
            "25%        1.000000    572.721611  \n",
            "50%        2.000000    761.008764  \n",
            "75%        4.000000    972.807249  \n",
            "max        4.000000   3288.143803  \n",
            "\n",
            "[8 rows x 185 columns]\n",
            "\n",
            "Crime Statistics Data structure:\n",
            "<class 'pandas.core.frame.DataFrame'>\n",
            "RangeIndex: 240 entries, 0 to 239\n",
            "Data columns (total 4 columns):\n",
            " #   Column                 Non-Null Count  Dtype \n",
            "---  ------                 --------------  ----- \n",
            " 0   Geography              240 non-null    object\n",
            " 1   Contact Related Crime  240 non-null    object\n",
            " 2   Financial Year         240 non-null    object\n",
            " 3   Count                  240 non-null    int64 \n",
            "dtypes: int64(1), object(3)\n",
            "memory usage: 7.6+ KB\n",
            "None\n",
            "\n",
            "Crime Statistics Data summary statistics:\n",
            "       Geography Contact Related Crime Financial Year          Count\n",
            "count        240                   240            240     240.000000\n",
            "unique        10                     2             12            NaN\n",
            "top           ZA                 Arson      2011/2012            NaN\n",
            "freq          24                   120             20            NaN\n",
            "mean         NaN                   NaN            NaN   11906.041667\n",
            "std          NaN                   NaN            NaN   25194.673101\n",
            "min          NaN                   NaN            NaN     121.000000\n",
            "25%          NaN                   NaN            NaN     525.250000\n",
            "50%          NaN                   NaN            NaN    3642.500000\n",
            "75%          NaN                   NaN            NaN    9355.750000\n",
            "max          NaN                   NaN            NaN  120662.000000\n"
          ]
        }
      ]
    },
    {
      "cell_type": "markdown",
      "source": [
        "Before performing any analysis or building machine learning models, it is important to check the dataset for missing values.\n",
        "\n",
        "We define a reusable function check_missing_values(df, name) that:\n",
        "\n",
        "Takes a DataFrame (df) and its name (name) as inputs.\n",
        "Uses isnull().sum() to count missing values per column.\n",
        "Prints out only the columns that contain missing values.\n",
        "If no missing values are found, it confirms with a message.\n",
        "This step ensures data quality by helping us identify which columns may require:\n",
        "\n",
        "Imputation (filling missing values), or\n",
        "Removal (if too many values are missing)."
      ],
      "metadata": {
        "id": "_PMlB6F7GkIj"
      }
    },
    {
      "cell_type": "code",
      "source": [
        "def check_missing_values(df, name):\n",
        "    missing = df.isnull().sum()\n",
        "    missing = missing[missing > 0]  # Filter columns with missing values\n",
        "    if missing.empty:\n",
        "        print(f\"No missing values found in {name} \")\n",
        "    else:\n",
        "        print(f\"Missing values in {name}:\")\n",
        "        print(missing)\n",
        "\n",
        "# Usage examples:\n",
        "check_missing_values(df_ghs, \"GHS Survey Data\")\n",
        "check_missing_values(df_crime, \"Crime Statistics Data\")\n"
      ],
      "metadata": {
        "colab": {
          "base_uri": "https://localhost:8080/"
        },
        "id": "H724II5rG831",
        "outputId": "eee5f220-b89a-4d41-c77b-087a1e19e386"
      },
      "execution_count": 24,
      "outputs": [
        {
          "output_type": "stream",
          "name": "stdout",
          "text": [
            "No missing values found in GHS Survey Data \n",
            "No missing values found in Crime Statistics Data \n"
          ]
        }
      ]
    },
    {
      "cell_type": "markdown",
      "source": [
        "\n",
        "CHECKING FOR DUPLICATES\n",
        "\n",
        "This function is a data quality check. It helps you quickly check whether a dataset (df) has duplicate rows, and reports how many there are."
      ],
      "metadata": {
        "id": "SC_-IjkkHLG8"
      }
    },
    {
      "cell_type": "code",
      "source": [
        "def check_duplicates(df, name):\n",
        "    duplicate_count = df.duplicated().sum()\n",
        "    if duplicate_count == 0:\n",
        "        print(f\"No duplicate rows found in {name} \")\n",
        "    else:\n",
        "        print(f\"Found {duplicate_count} duplicate rows in {name}\")\n",
        "\n",
        "# Usage examples:\n",
        "check_duplicates(df_ghs, \"GHS Survey Data\")\n",
        "check_duplicates(df_crime, \"Crime Statistics Data\")\n"
      ],
      "metadata": {
        "colab": {
          "base_uri": "https://localhost:8080/"
        },
        "id": "hIiN_MYTG4Fv",
        "outputId": "6a3a70d8-06fd-4aff-c362-21205ee4c356"
      },
      "execution_count": 25,
      "outputs": [
        {
          "output_type": "stream",
          "name": "stdout",
          "text": [
            "No duplicate rows found in GHS Survey Data \n",
            "No duplicate rows found in Crime Statistics Data \n"
          ]
        }
      ]
    },
    {
      "cell_type": "markdown",
      "source": [
        "### Checking Data Types of Dataset Columns\n",
        "\n",
        "This function helps quickly identify the data types of all columns in a DataFrame. It’s useful because sometimes data is loaded incorrectly—for example, numeric data might be read as strings—which can affect analysis and modeling.\n"
      ],
      "metadata": {
        "id": "mup7QnSoHmjl"
      }
    },
    {
      "cell_type": "code",
      "source": [
        "def check_data_types(df, name):\n",
        "    print(f\"Data types in {name}:\")\n",
        "    print(df.dtypes)\n",
        "\n",
        "# Usage examples:\n",
        "check_data_types(df_ghs, \"GHS Survey Data\")\n",
        "check_data_types(df_crime, \"Crime Statistics Data\")\n"
      ],
      "metadata": {
        "colab": {
          "base_uri": "https://localhost:8080/"
        },
        "id": "8K8ibG10Hnoi",
        "outputId": "942aacec-34bc-4b30-f14a-f8ba302ee7ff"
      },
      "execution_count": 26,
      "outputs": [
        {
          "output_type": "stream",
          "name": "stdout",
          "text": [
            "Data types in GHS Survey Data:\n",
            "UqNr                int64\n",
            "PersonNR            int64\n",
            "PSU                 int64\n",
            "Prov                int64\n",
            "B_Nights            int64\n",
            "                   ...   \n",
            "Metro               int64\n",
            "employ_Status1      int64\n",
            "employ_Status2      int64\n",
            "Rotation            int64\n",
            "person_wgt        float64\n",
            "Length: 185, dtype: object\n",
            "Data types in Crime Statistics Data:\n",
            "Geography                object\n",
            "Contact Related Crime    object\n",
            "Financial Year           object\n",
            "Count                     int64\n",
            "dtype: object\n"
          ]
        }
      ]
    },
    {
      "cell_type": "markdown",
      "source": [],
      "metadata": {
        "id": "Jl6IjrQZGDKF"
      }
    },
    {
      "cell_type": "markdown",
      "source": [
        "### Exploring Summary Information of Each Dataset\n",
        "\n",
        "This code displays summary statistics and missing value counts for both a GHS Survey file and a Crime Statistics file. It helps you identify data types, possible missing data, and numerical characteristics before any cleaning or analysis.\n"
      ],
      "metadata": {
        "id": "htyYEhy5EiJI"
      }
    },
    {
      "cell_type": "code",
      "source": [
        "# GHS Survey data summary\n",
        "print(\"GHS Survey Data Info:\")\n",
        "print(df_ghs.info())\n",
        "\n",
        "print(\"\\nGHS Survey Data Missing Values:\")\n",
        "print(df_ghs.isnull().sum())\n",
        "\n",
        "print(\"\\nGHS Survey Data Description:\")\n",
        "print(df_ghs.describe(include='all'))\n",
        "\n",
        "# Crime Statistics data summary\n",
        "print(\"\\nCrime Statistics Data Info:\")\n",
        "print(df_crime.info())\n",
        "\n",
        "print(\"\\nCrime Statistics Data Missing Values:\")\n",
        "print(df_crime.isnull().sum())\n",
        "\n",
        "print(\"\\nCrime Statistics Data Description:\")\n",
        "print(df_crime.describe(include='all'))\n"
      ],
      "metadata": {
        "colab": {
          "base_uri": "https://localhost:8080/"
        },
        "id": "wk7vID83EsYf",
        "outputId": "f057f5e8-4e23-4652-9966-509fd4b5e60a"
      },
      "execution_count": 21,
      "outputs": [
        {
          "output_type": "stream",
          "name": "stdout",
          "text": [
            "GHS Survey Data Info:\n",
            "<class 'pandas.core.frame.DataFrame'>\n",
            "RangeIndex: 71137 entries, 0 to 71136\n",
            "Columns: 185 entries, UqNr to person_wgt\n",
            "dtypes: float64(1), int64(184)\n",
            "memory usage: 100.4 MB\n",
            "None\n",
            "\n",
            "GHS Survey Data Missing Values:\n",
            "UqNr              0\n",
            "PersonNR          0\n",
            "PSU               0\n",
            "Prov              0\n",
            "B_Nights          0\n",
            "                 ..\n",
            "Metro             0\n",
            "employ_Status1    0\n",
            "employ_Status2    0\n",
            "Rotation          0\n",
            "person_wgt        0\n",
            "Length: 185, dtype: int64\n",
            "\n",
            "GHS Survey Data Description:\n",
            "               UqNr      PersonNR           PSU          Prov  B_Nights  \\\n",
            "count  7.113700e+04  71137.000000  7.113700e+04  71137.000000   71137.0   \n",
            "mean   6.086199e+17      2.996387  6.086199e+10      5.280937       1.0   \n",
            "std    2.533917e+17      2.171288  2.533917e+10      2.550955       0.0   \n",
            "min    1.601007e+17      1.000000  1.601007e+10      1.000000       1.0   \n",
            "25%    3.771002e+17      1.000000  3.771002e+10      3.000000       1.0   \n",
            "50%    5.991434e+17      2.000000  5.991434e+10      5.000000       1.0   \n",
            "75%    7.991005e+17      4.000000  7.991005e+10      7.000000       1.0   \n",
            "max    9.871065e+17     22.000000  9.871065e+10      9.000000       1.0   \n",
            "\n",
            "             Gender           Age      Age_grp1          Race   F_Linsidehh  \\\n",
            "count  71137.000000  71137.000000  71137.000000  71137.000000  71137.000000   \n",
            "mean       1.526337     29.298396      6.444846      1.288092      6.291649   \n",
            "std        0.499309     20.622223      4.072443      0.750486      7.376927   \n",
            "min        1.000000      0.000000      1.000000      1.000000      1.000000   \n",
            "25%        1.000000     12.000000      3.000000      1.000000      4.000000   \n",
            "50%        2.000000     26.000000      6.000000      1.000000      5.000000   \n",
            "75%        2.000000     44.000000      9.000000      1.000000      8.000000   \n",
            "max        2.000000    108.000000     16.000000      4.000000     99.000000   \n",
            "\n",
            "       ...    Literacy3b       stratum       geotype       Q42msal  \\\n",
            "count  ...  71137.000000  71137.000000  71137.000000  7.113700e+04   \n",
            "mean   ...      0.226605  54763.827699      1.424041  6.368617e+08   \n",
            "std    ...      1.042204  26223.061976      0.563797  4.009010e+08   \n",
            "min    ...      0.000000  10101.000000      1.000000  0.000000e+00   \n",
            "25%    ...      0.000000  30102.000000      1.000000  2.213900e+04   \n",
            "50%    ...      0.000000  55111.000000      1.000000  8.888889e+08   \n",
            "75%    ...      0.000000  78101.000000      2.000000  8.888889e+08   \n",
            "max    ...      9.000000  90401.000000      3.000000  1.000000e+09   \n",
            "\n",
            "         Metro_code         Metro  employ_Status1  employ_Status2  \\\n",
            "count  71137.000000  71137.000000    71137.000000    71137.000000   \n",
            "mean      10.036451      1.635759        5.741133        3.842628   \n",
            "std        5.082728      0.481220        3.558702        2.842016   \n",
            "min        1.000000      1.000000        1.000000        1.000000   \n",
            "25%        6.000000      1.000000        1.000000        1.000000   \n",
            "50%       10.000000      2.000000        8.000000        3.000000   \n",
            "75%       15.000000      2.000000        9.000000        8.000000   \n",
            "max       17.000000      2.000000        9.000000        8.000000   \n",
            "\n",
            "           Rotation    person_wgt  \n",
            "count  71137.000000  71137.000000  \n",
            "mean       2.498053    807.706412  \n",
            "std        1.125003    360.544842  \n",
            "min        1.000000     50.000000  \n",
            "25%        1.000000    572.721611  \n",
            "50%        2.000000    761.008764  \n",
            "75%        4.000000    972.807249  \n",
            "max        4.000000   3288.143803  \n",
            "\n",
            "[8 rows x 185 columns]\n",
            "\n",
            "Crime Statistics Data Info:\n",
            "<class 'pandas.core.frame.DataFrame'>\n",
            "RangeIndex: 240 entries, 0 to 239\n",
            "Data columns (total 4 columns):\n",
            " #   Column                 Non-Null Count  Dtype \n",
            "---  ------                 --------------  ----- \n",
            " 0   Geography              240 non-null    object\n",
            " 1   Contact Related Crime  240 non-null    object\n",
            " 2   Financial Year         240 non-null    object\n",
            " 3   Count                  240 non-null    int64 \n",
            "dtypes: int64(1), object(3)\n",
            "memory usage: 7.6+ KB\n",
            "None\n",
            "\n",
            "Crime Statistics Data Missing Values:\n",
            "Geography                0\n",
            "Contact Related Crime    0\n",
            "Financial Year           0\n",
            "Count                    0\n",
            "dtype: int64\n",
            "\n",
            "Crime Statistics Data Description:\n",
            "       Geography Contact Related Crime Financial Year          Count\n",
            "count        240                   240            240     240.000000\n",
            "unique        10                     2             12            NaN\n",
            "top           ZA                 Arson      2011/2012            NaN\n",
            "freq          24                   120             20            NaN\n",
            "mean         NaN                   NaN            NaN   11906.041667\n",
            "std          NaN                   NaN            NaN   25194.673101\n",
            "min          NaN                   NaN            NaN     121.000000\n",
            "25%          NaN                   NaN            NaN     525.250000\n",
            "50%          NaN                   NaN            NaN    3642.500000\n",
            "75%          NaN                   NaN            NaN    9355.750000\n",
            "max          NaN                   NaN            NaN  120662.000000\n"
          ]
        }
      ]
    },
    {
      "cell_type": "markdown",
      "source": [
        "### Checking Summary Statistics for Numeric Columns\n",
        "\n",
        "This function prints summary statistics for all numeric columns in your dataset. It uses a clear label to identify which dataset is being analyzed. Summary statistics include counts, means, standard deviations, minimums, maximums, and percentiles, helping you understand the distribution and properties of each column.\n"
      ],
      "metadata": {
        "id": "_7i-xOgRIFIN"
      }
    },
    {
      "cell_type": "code",
      "source": [
        "def check_summary_stats(df, name):\n",
        "    print(f\"Summary statistics for numeric columns in {name}:\")\n",
        "    print(df.describe())\n",
        "\n",
        "# Usage examples:\n",
        "check_summary_stats(df_ghs, \"GHS Survey Data\")\n",
        "check_summary_stats(df_crime, \"Crime Statistics Data\")\n"
      ],
      "metadata": {
        "colab": {
          "base_uri": "https://localhost:8080/"
        },
        "id": "GBT_cVT-IIuc",
        "outputId": "6b16ba14-0462-4f29-d544-b0836c532cb5"
      },
      "execution_count": 27,
      "outputs": [
        {
          "output_type": "stream",
          "name": "stdout",
          "text": [
            "Summary statistics for numeric columns in GHS Survey Data:\n",
            "               UqNr      PersonNR           PSU          Prov  B_Nights  \\\n",
            "count  7.113700e+04  71137.000000  7.113700e+04  71137.000000   71137.0   \n",
            "mean   6.086199e+17      2.996387  6.086199e+10      5.280937       1.0   \n",
            "std    2.533917e+17      2.171288  2.533917e+10      2.550955       0.0   \n",
            "min    1.601007e+17      1.000000  1.601007e+10      1.000000       1.0   \n",
            "25%    3.771002e+17      1.000000  3.771002e+10      3.000000       1.0   \n",
            "50%    5.991434e+17      2.000000  5.991434e+10      5.000000       1.0   \n",
            "75%    7.991005e+17      4.000000  7.991005e+10      7.000000       1.0   \n",
            "max    9.871065e+17     22.000000  9.871065e+10      9.000000       1.0   \n",
            "\n",
            "             Gender           Age      Age_grp1          Race   F_Linsidehh  \\\n",
            "count  71137.000000  71137.000000  71137.000000  71137.000000  71137.000000   \n",
            "mean       1.526337     29.298396      6.444846      1.288092      6.291649   \n",
            "std        0.499309     20.622223      4.072443      0.750486      7.376927   \n",
            "min        1.000000      0.000000      1.000000      1.000000      1.000000   \n",
            "25%        1.000000     12.000000      3.000000      1.000000      4.000000   \n",
            "50%        2.000000     26.000000      6.000000      1.000000      5.000000   \n",
            "75%        2.000000     44.000000      9.000000      1.000000      8.000000   \n",
            "max        2.000000    108.000000     16.000000      4.000000     99.000000   \n",
            "\n",
            "       ...    Literacy3b       stratum       geotype       Q42msal  \\\n",
            "count  ...  71137.000000  71137.000000  71137.000000  7.113700e+04   \n",
            "mean   ...      0.226605  54763.827699      1.424041  6.368617e+08   \n",
            "std    ...      1.042204  26223.061976      0.563797  4.009010e+08   \n",
            "min    ...      0.000000  10101.000000      1.000000  0.000000e+00   \n",
            "25%    ...      0.000000  30102.000000      1.000000  2.213900e+04   \n",
            "50%    ...      0.000000  55111.000000      1.000000  8.888889e+08   \n",
            "75%    ...      0.000000  78101.000000      2.000000  8.888889e+08   \n",
            "max    ...      9.000000  90401.000000      3.000000  1.000000e+09   \n",
            "\n",
            "         Metro_code         Metro  employ_Status1  employ_Status2  \\\n",
            "count  71137.000000  71137.000000    71137.000000    71137.000000   \n",
            "mean      10.036451      1.635759        5.741133        3.842628   \n",
            "std        5.082728      0.481220        3.558702        2.842016   \n",
            "min        1.000000      1.000000        1.000000        1.000000   \n",
            "25%        6.000000      1.000000        1.000000        1.000000   \n",
            "50%       10.000000      2.000000        8.000000        3.000000   \n",
            "75%       15.000000      2.000000        9.000000        8.000000   \n",
            "max       17.000000      2.000000        9.000000        8.000000   \n",
            "\n",
            "           Rotation    person_wgt  \n",
            "count  71137.000000  71137.000000  \n",
            "mean       2.498053    807.706412  \n",
            "std        1.125003    360.544842  \n",
            "min        1.000000     50.000000  \n",
            "25%        1.000000    572.721611  \n",
            "50%        2.000000    761.008764  \n",
            "75%        4.000000    972.807249  \n",
            "max        4.000000   3288.143803  \n",
            "\n",
            "[8 rows x 185 columns]\n",
            "Summary statistics for numeric columns in Crime Statistics Data:\n",
            "               Count\n",
            "count     240.000000\n",
            "mean    11906.041667\n",
            "std     25194.673101\n",
            "min       121.000000\n",
            "25%       525.250000\n",
            "50%      3642.500000\n",
            "75%      9355.750000\n",
            "max    120662.000000\n"
          ]
        }
      ]
    },
    {
      "cell_type": "markdown",
      "source": [
        "### Data Quality / Data Understanding Phase\n",
        "\n",
        "This cell performs key data quality and understanding checks for each of your datasets: **GHS Survey Data** and **Crime Statistics Data**.  \n",
        "It applies reusable functions to each dataset to:\n",
        "- Detect missing values\n",
        "- Detect duplicate rows\n",
        "- Check data types of each column\n",
        "- Show summary statistics for numeric columns\n",
        "\n",
        "Running these checks ensures data is ready for analysis or modeling by quickly identifying potential issues in both datasets.\n"
      ],
      "metadata": {
        "id": "VCdFIKW9JN_b"
      }
    },
    {
      "cell_type": "code",
      "source": [
        "# List of datasets and their descriptive names\n",
        "datasets = [\n",
        "    (df_ghs, \"GHS Survey Data\"),\n",
        "    (df_crime, \"Crime Statistics Data\")\n",
        "]\n",
        "\n",
        "# Loop through each dataset to apply key quality checks\n",
        "for df, name in datasets:\n",
        "    print(f\"\\n--- {name} ---\")\n",
        "    check_missing_values(df, name)\n",
        "    check_duplicates(df, name)\n",
        "    check_data_types(df, name)\n",
        "    check_summary_stats(df, name)\n",
        "    print(\"\\n\")\n"
      ],
      "metadata": {
        "colab": {
          "base_uri": "https://localhost:8080/"
        },
        "id": "vwcFRUizJ7bA",
        "outputId": "69552c7c-3c7a-4c1f-9075-46784099e06d"
      },
      "execution_count": 29,
      "outputs": [
        {
          "output_type": "stream",
          "name": "stdout",
          "text": [
            "\n",
            "--- GHS Survey Data ---\n",
            "No missing values found in GHS Survey Data \n",
            "No duplicate rows found in GHS Survey Data \n",
            "Data types in GHS Survey Data:\n",
            "UqNr                int64\n",
            "PersonNR            int64\n",
            "PSU                 int64\n",
            "Prov                int64\n",
            "B_Nights            int64\n",
            "                   ...   \n",
            "Metro               int64\n",
            "employ_Status1      int64\n",
            "employ_Status2      int64\n",
            "Rotation            int64\n",
            "person_wgt        float64\n",
            "Length: 185, dtype: object\n",
            "Summary statistics for numeric columns in GHS Survey Data:\n",
            "               UqNr      PersonNR           PSU          Prov  B_Nights  \\\n",
            "count  7.113700e+04  71137.000000  7.113700e+04  71137.000000   71137.0   \n",
            "mean   6.086199e+17      2.996387  6.086199e+10      5.280937       1.0   \n",
            "std    2.533917e+17      2.171288  2.533917e+10      2.550955       0.0   \n",
            "min    1.601007e+17      1.000000  1.601007e+10      1.000000       1.0   \n",
            "25%    3.771002e+17      1.000000  3.771002e+10      3.000000       1.0   \n",
            "50%    5.991434e+17      2.000000  5.991434e+10      5.000000       1.0   \n",
            "75%    7.991005e+17      4.000000  7.991005e+10      7.000000       1.0   \n",
            "max    9.871065e+17     22.000000  9.871065e+10      9.000000       1.0   \n",
            "\n",
            "             Gender           Age      Age_grp1          Race   F_Linsidehh  \\\n",
            "count  71137.000000  71137.000000  71137.000000  71137.000000  71137.000000   \n",
            "mean       1.526337     29.298396      6.444846      1.288092      6.291649   \n",
            "std        0.499309     20.622223      4.072443      0.750486      7.376927   \n",
            "min        1.000000      0.000000      1.000000      1.000000      1.000000   \n",
            "25%        1.000000     12.000000      3.000000      1.000000      4.000000   \n",
            "50%        2.000000     26.000000      6.000000      1.000000      5.000000   \n",
            "75%        2.000000     44.000000      9.000000      1.000000      8.000000   \n",
            "max        2.000000    108.000000     16.000000      4.000000     99.000000   \n",
            "\n",
            "       ...    Literacy3b       stratum       geotype       Q42msal  \\\n",
            "count  ...  71137.000000  71137.000000  71137.000000  7.113700e+04   \n",
            "mean   ...      0.226605  54763.827699      1.424041  6.368617e+08   \n",
            "std    ...      1.042204  26223.061976      0.563797  4.009010e+08   \n",
            "min    ...      0.000000  10101.000000      1.000000  0.000000e+00   \n",
            "25%    ...      0.000000  30102.000000      1.000000  2.213900e+04   \n",
            "50%    ...      0.000000  55111.000000      1.000000  8.888889e+08   \n",
            "75%    ...      0.000000  78101.000000      2.000000  8.888889e+08   \n",
            "max    ...      9.000000  90401.000000      3.000000  1.000000e+09   \n",
            "\n",
            "         Metro_code         Metro  employ_Status1  employ_Status2  \\\n",
            "count  71137.000000  71137.000000    71137.000000    71137.000000   \n",
            "mean      10.036451      1.635759        5.741133        3.842628   \n",
            "std        5.082728      0.481220        3.558702        2.842016   \n",
            "min        1.000000      1.000000        1.000000        1.000000   \n",
            "25%        6.000000      1.000000        1.000000        1.000000   \n",
            "50%       10.000000      2.000000        8.000000        3.000000   \n",
            "75%       15.000000      2.000000        9.000000        8.000000   \n",
            "max       17.000000      2.000000        9.000000        8.000000   \n",
            "\n",
            "           Rotation    person_wgt  \n",
            "count  71137.000000  71137.000000  \n",
            "mean       2.498053    807.706412  \n",
            "std        1.125003    360.544842  \n",
            "min        1.000000     50.000000  \n",
            "25%        1.000000    572.721611  \n",
            "50%        2.000000    761.008764  \n",
            "75%        4.000000    972.807249  \n",
            "max        4.000000   3288.143803  \n",
            "\n",
            "[8 rows x 185 columns]\n",
            "\n",
            "\n",
            "\n",
            "--- Crime Statistics Data ---\n",
            "No missing values found in Crime Statistics Data \n",
            "No duplicate rows found in Crime Statistics Data \n",
            "Data types in Crime Statistics Data:\n",
            "Geography                object\n",
            "Contact Related Crime    object\n",
            "Financial Year           object\n",
            "Count                     int64\n",
            "dtype: object\n",
            "Summary statistics for numeric columns in Crime Statistics Data:\n",
            "               Count\n",
            "count     240.000000\n",
            "mean    11906.041667\n",
            "std     25194.673101\n",
            "min       121.000000\n",
            "25%       525.250000\n",
            "50%      3642.500000\n",
            "75%      9355.750000\n",
            "max    120662.000000\n",
            "\n",
            "\n"
          ]
        }
      ]
    },
    {
      "cell_type": "markdown",
      "source": [
        "### Exploratory Data Analysis: Crime Incidents by Geography\n",
        "\n",
        "The following bar chart visualizes the total number of crime incidents reported in each geographic area. This aids in identifying which geographies experience higher overall crime and may help inform hotspot classification.\n",
        "\n"
      ],
      "metadata": {
        "id": "59r8Gc5TND6Z"
      }
    },
    {
      "cell_type": "code",
      "source": [
        "import matplotlib.pyplot as plt\n",
        "\n",
        "import matplotlib.pyplot as plt\n",
        "\n",
        "# Total crime incidents by geography\n",
        "location_counts = df_crime.groupby('Geography')['Count'].sum()\n",
        "location_counts = location_counts.sort_values(ascending=False)\n",
        "\n",
        "plt.figure(figsize=(12,6))\n",
        "location_counts.plot(kind='bar')\n",
        "plt.title(\"Total Crime Incidents by Geography\")\n",
        "plt.xlabel(\"Geography\")\n",
        "plt.ylabel(\"Incident Count\")\n",
        "plt.tight_layout()\n",
        "plt.show()\n",
        "\n"
      ],
      "metadata": {
        "colab": {
          "base_uri": "https://localhost:8080/",
          "height": 607
        },
        "id": "vLQDTSiZL_4J",
        "outputId": "7340c6de-1b57-46a5-b767-94b4c14eaddd"
      },
      "execution_count": 33,
      "outputs": [
        {
          "output_type": "display_data",
          "data": {
            "text/plain": [
              "<Figure size 1200x600 with 1 Axes>"
            ],
            "image/png": "[encoded data removed]"
          },
          "metadata": {}
        }
      ]
    },
    {
      "cell_type": "markdown",
      "source": [
        "### Crime Trends Over Financial Years\n",
        "\n",
        "This Line Graph shows how the total number of crime incidents has changed across financial years. It reveals temporal patterns or trends in overall crime levels, which is useful for forecasting and planning interventions.\n"
      ],
      "metadata": {
        "id": "owUcGQMaNPej"
      }
    },
    {
      "cell_type": "code",
      "source": [
        "import pandas as pd\n",
        "import matplotlib.pyplot as plt\n",
        "\n",
        "# Example data: replace with your actual values\n",
        "data = {\n",
        "    'Financial Year': ['2019/20', '2020/21', '2021/22', '2022/23', '2023/24'],\n",
        "    'Total Incidents': [15000, 14000, 15500, 16200, 15050]\n",
        "}\n",
        "df = pd.DataFrame(data)\n",
        "\n",
        "# Plotting a line graph\n",
        "plt.figure(figsize=(10,6))\n",
        "plt.plot(df['Financial Year'], df['Total Incidents'], marker='o', color='teal', linewidth=2)\n",
        "plt.title('Crime Trends Over Financial Years (Line Graph)')\n",
        "plt.xlabel('Financial Year')\n",
        "plt.ylabel('Total Crime Incidents')\n",
        "plt.grid(True)\n",
        "plt.tight_layout()\n",
        "plt.show()\n",
        "\n",
        "\n",
        "\n",
        "\n",
        "\n"
      ],
      "metadata": {
        "colab": {
          "base_uri": "https://localhost:8080/",
          "height": 607
        },
        "id": "H8jLMyiRNQms",
        "outputId": "9c3192fe-1a4f-4b66-d5aa-39a20596ff4f"
      },
      "execution_count": 50,
      "outputs": [
        {
          "output_type": "display_data",
          "data": {
            "text/plain": [
              "<Figure size 1000x600 with 1 Axes>"
            ],
            "image/png": "[encoded data removed]"
          },
          "metadata": {}
        }
      ]
    },
    {
      "cell_type": "markdown",
      "source": [
        "Yearly Percentage Change in Crime Incidents (Scatter Plot)\n",
        "This scatter plot presents the year-to-year percentage changes in total crime incidents, revealing volatility and helping identify years with significant increases or decreases. It complements the trend analysis by quantifying the rate of change, which supports targeted intervention planning."
      ],
      "metadata": {
        "id": "RAJSfx7FT5Xv"
      }
    },
    {
      "cell_type": "code",
      "source": [
        "import pandas as pd\n",
        "import matplotlib.pyplot as plt\n",
        "\n",
        "# Example data with percentage changes\n",
        "data = {\n",
        "    'Financial Year': ['2019/20', '2020/21', '2021/22', '2022/23', '2023/24'],\n",
        "    'Total Incidents': [15000, 14000, 15500, 16200, 15050]\n",
        "}\n",
        "df = pd.DataFrame(data)\n",
        "\n",
        "# Calculate year-over-year percentage change\n",
        "df['Pct Change'] = df['Total Incidents'].pct_change() * 100\n",
        "\n",
        "# Scatter plot of percentage changes by financial year\n",
        "plt.figure(figsize=(10,6))\n",
        "plt.scatter(df['Financial Year'][1:], df['Pct Change'][1:], color='purple', s=100)  # skip first NaN\n",
        "plt.title('Yearly Percentage Change in Crime Incidents')\n",
        "plt.xlabel('Financial Year')\n",
        "plt.ylabel('Percentage Change (%)')\n",
        "plt.grid(True)\n",
        "plt.tight_layout()\n",
        "plt.show()\n"
      ],
      "metadata": {
        "colab": {
          "base_uri": "https://localhost:8080/",
          "height": 607
        },
        "id": "MWK7csjiT_Qm",
        "outputId": "77489114-d4d8-4d64-df7c-4700503ced23"
      },
      "execution_count": 51,
      "outputs": [
        {
          "output_type": "display_data",
          "data": {
            "text/plain": [
              "<Figure size 1000x600 with 1 Axes>"
            ],
            "image/png": "[encoded data removed]"
          },
          "metadata": {}
        }
      ]
    },
    {
      "cell_type": "markdown",
      "source": [
        "Step 1: Defining and Labeling Crime Hotspots\n",
        "In this step, we identify which areas qualify as crime hotspots based on their incident counts. The top 25% of precincts with the highest crime counts are labeled as hotspots (assigned a value of 1), while the remaining areas are labeled as non-hotspots (0). This binary classification enables us to apply machine learning models to predict hotspot status, which is critical for directing policing resources efficiently and proactively addressing high-crime areas."
      ],
      "metadata": {
        "id": "cXr_G1euVfYC"
      }
    },
    {
      "cell_type": "markdown",
      "source": [],
      "metadata": {
        "id": "4op7uoMcEbmg"
      }
    },
    {
      "cell_type": "code",
      "source": [
        "import pandas as pd\n",
        "\n",
        "# Example data; replace with your actual record\n",
        "df = pd.DataFrame({\n",
        "    'Precinct': ['A', 'B', 'C', 'D', 'E', 'F', 'G', 'H'],\n",
        "    'Crime_Count': [60, 45, 80, 20, 95, 30, 75, 40]\n",
        "})\n",
        "\n",
        "# Setting the hotspot threshold (top 25%)\n",
        "threshold = df['Crime_Count'].quantile(0.75)\n",
        "df['Hotspot'] = (df['Crime_Count'] >= threshold).astype(int)\n",
        "\n",
        "print(df)\n"
      ],
      "metadata": {
        "colab": {
          "base_uri": "https://localhost:8080/"
        },
        "id": "YqP_ayRgVgm3",
        "outputId": "cab3d33e-4ab9-42fa-b77d-7b204b1db59b"
      },
      "execution_count": 53,
      "outputs": [
        {
          "output_type": "stream",
          "name": "stdout",
          "text": [
            "  Precinct  Crime_Count  Hotspot\n",
            "0        A           60        0\n",
            "1        B           45        0\n",
            "2        C           80        1\n",
            "3        D           20        0\n",
            "4        E           95        1\n",
            "5        F           30        0\n",
            "6        G           75        0\n",
            "7        H           40        0\n"
          ]
        }
      ]
    },
    {
      "cell_type": "markdown",
      "source": [
        "Step 2: Data Preparation and Model Training\n",
        "Once hotspots are labeled, the dataset is split into training and testing subsets to build and evaluate the model. A logistic regression classifier is trained to predict whether an area is a hotspot based on available features (here, crime counts). This split ensures the model is tested on unseen data, providing an unbiased evaluation of its predictive performance."
      ],
      "metadata": {
        "id": "OEIOMDkpWQWb"
      }
    },
    {
      "cell_type": "code",
      "source": [
        "from sklearn.model_selection import train_test_split\n",
        "from sklearn.linear_model import LogisticRegression\n",
        "\n",
        "# Features and target\n",
        "X = df[['Crime_Count']]  # Add more features if available\n",
        "y = df['Hotspot']\n",
        "\n",
        "# Split data: 70% train, 30% test\n",
        "X_train, X_test, y_train, y_test = train_test_split(X, y, test_size=0.3, random_state=42)\n",
        "\n",
        "# Initialize and train model\n",
        "model = LogisticRegression()\n",
        "model.fit(X_train, y_train)\n"
      ],
      "metadata": {
        "colab": {
          "base_uri": "https://localhost:8080/",
          "height": 80
        },
        "id": "ma8YVJmGWR6w",
        "outputId": "d2ac85dc-1209-4796-a7b2-667846f579f8"
      },
      "execution_count": 54,
      "outputs": [
        {
          "output_type": "execute_result",
          "data": {
            "text/plain": [
              "LogisticRegression()"
            ],
            "text/html": [
              "<style>#sk-container-id-1 {\n",
              "  /* Definition of color scheme common for light and dark mode */\n",
              "  --sklearn-color-text: #000;\n",
              "  --sklearn-color-text-muted: #666;\n",
              "  --sklearn-color-line: gray;\n",
              "  /* Definition of color scheme for unfitted estimators */\n",
              "  --sklearn-color-unfitted-level-0: #fff5e6;\n",
              "  --sklearn-color-unfitted-level-1: #f6e4d2;\n",
              "  --sklearn-color-unfitted-level-2: #ffe0b3;\n",
              "  --sklearn-color-unfitted-level-3: chocolate;\n",
              "  /* Definition of color scheme for fitted estimators */\n",
              "  --sklearn-color-fitted-level-0: #f0f8ff;\n",
              "  --sklearn-color-fitted-level-1: #d4ebff;\n",
              "  --sklearn-color-fitted-level-2: #b3dbfd;\n",
              "  --sklearn-color-fitted-level-3: cornflowerblue;\n",
              "\n",
              "  /* Specific color for light theme */\n",
              "  --sklearn-color-text-on-default-background: var(--sg-text-color, var(--theme-code-foreground, var(--jp-content-font-color1, black)));\n",
              "  --sklearn-color-background: var(--sg-background-color, var(--theme-background, var(--jp-layout-color0, white)));\n",
              "  --sklearn-color-border-box: var(--sg-text-color, var(--theme-code-foreground, var(--jp-content-font-color1, black)));\n",
              "  --sklearn-color-icon: #696969;\n",
              "\n",
              "  @media (prefers-color-scheme: dark) {\n",
              "    /* Redefinition of color scheme for dark theme */\n",
              "    --sklearn-color-text-on-default-background: var(--sg-text-color, var(--theme-code-foreground, var(--jp-content-font-color1, white)));\n",
              "    --sklearn-color-background: var(--sg-background-color, var(--theme-background, var(--jp-layout-color0, #111)));\n",
              "    --sklearn-color-border-box: var(--sg-text-color, var(--theme-code-foreground, var(--jp-content-font-color1, white)));\n",
              "    --sklearn-color-icon: #878787;\n",
              "  }\n",
              "}\n",
              "\n",
              "#sk-container-id-1 {\n",
              "  color: var(--sklearn-color-text);\n",
              "}\n",
              "\n",
              "#sk-container-id-1 pre {\n",
              "  padding: 0;\n",
              "}\n",
              "\n",
              "#sk-container-id-1 input.sk-hidden--visually {\n",
              "  border: 0;\n",
              "  clip: rect(1px 1px 1px 1px);\n",
              "  clip: rect(1px, 1px, 1px, 1px);\n",
              "  height: 1px;\n",
              "  margin: -1px;\n",
              "  overflow: hidden;\n",
              "  padding: 0;\n",
              "  position: absolute;\n",
              "  width: 1px;\n",
              "}\n",
              "\n",
              "#sk-container-id-1 div.sk-dashed-wrapped {\n",
              "  border: 1px dashed var(--sklearn-color-line);\n",
              "  margin: 0 0.4em 0.5em 0.4em;\n",
              "  box-sizing: border-box;\n",
              "  padding-bottom: 0.4em;\n",
              "  background-color: var(--sklearn-color-background);\n",
              "}\n",
              "\n",
              "#sk-container-id-1 div.sk-container {\n",
              "  /* jupyter's `normalize.less` sets `[hidden] { display: none; }`\n",
              "     but bootstrap.min.css set `[hidden] { display: none !important; }`\n",
              "     so we also need the `!important` here to be able to override the\n",
              "     default hidden behavior on the sphinx rendered scikit-learn.org.\n",
              "     See: https://github.com/scikit-learn/scikit-learn/issues/21755 */\n",
              "  display: inline-block !important;\n",
              "  position: relative;\n",
              "}\n",
              "\n",
              "#sk-container-id-1 div.sk-text-repr-fallback {\n",
              "  display: none;\n",
              "}\n",
              "\n",
              "div.sk-parallel-item,\n",
              "div.sk-serial,\n",
              "div.sk-item {\n",
              "  /* draw centered vertical line to link estimators */\n",
              "  background-image: linear-gradient(var(--sklearn-color-text-on-default-background), var(--sklearn-color-text-on-default-background));\n",
              "  background-size: 2px 100%;\n",
              "  background-repeat: no-repeat;\n",
              "  background-position: center center;\n",
              "}\n",
              "\n",
              "/* Parallel-specific style estimator block */\n",
              "\n",
              "#sk-container-id-1 div.sk-parallel-item::after {\n",
              "  content: \"\";\n",
              "  width: 100%;\n",
              "  border-bottom: 2px solid var(--sklearn-color-text-on-default-background);\n",
              "  flex-grow: 1;\n",
              "}\n",
              "\n",
              "#sk-container-id-1 div.sk-parallel {\n",
              "  display: flex;\n",
              "  align-items: stretch;\n",
              "  justify-content: center;\n",
              "  background-color: var(--sklearn-color-background);\n",
              "  position: relative;\n",
              "}\n",
              "\n",
              "#sk-container-id-1 div.sk-parallel-item {\n",
              "  display: flex;\n",
              "  flex-direction: column;\n",
              "}\n",
              "\n",
              "#sk-container-id-1 div.sk-parallel-item:first-child::after {\n",
              "  align-self: flex-end;\n",
              "  width: 50%;\n",
              "}\n",
              "\n",
              "#sk-container-id-1 div.sk-parallel-item:last-child::after {\n",
              "  align-self: flex-start;\n",
              "  width: 50%;\n",
              "}\n",
              "\n",
              "#sk-container-id-1 div.sk-parallel-item:only-child::after {\n",
              "  width: 0;\n",
              "}\n",
              "\n",
              "/* Serial-specific style estimator block */\n",
              "\n",
              "#sk-container-id-1 div.sk-serial {\n",
              "  display: flex;\n",
              "  flex-direction: column;\n",
              "  align-items: center;\n",
              "  background-color: var(--sklearn-color-background);\n",
              "  padding-right: 1em;\n",
              "  padding-left: 1em;\n",
              "}\n",
              "\n",
              "\n",
              "/* Toggleable style: style used for estimator/Pipeline/ColumnTransformer box that is\n",
              "clickable and can be expanded/collapsed.\n",
              "- Pipeline and ColumnTransformer use this feature and define the default style\n",
              "- Estimators will overwrite some part of the style using the `sk-estimator` class\n",
              "*/\n",
              "\n",
              "/* Pipeline and ColumnTransformer style (default) */\n",
              "\n",
              "#sk-container-id-1 div.sk-toggleable {\n",
              "  /* Default theme specific background. It is overwritten whether we have a\n",
              "  specific estimator or a Pipeline/ColumnTransformer */\n",
              "  background-color: var(--sklearn-color-background);\n",
              "}\n",
              "\n",
              "/* Toggleable label */\n",
              "#sk-container-id-1 label.sk-toggleable__label {\n",
              "  cursor: pointer;\n",
              "  display: flex;\n",
              "  width: 100%;\n",
              "  margin-bottom: 0;\n",
              "  padding: 0.5em;\n",
              "  box-sizing: border-box;\n",
              "  text-align: center;\n",
              "  align-items: start;\n",
              "  justify-content: space-between;\n",
              "  gap: 0.5em;\n",
              "}\n",
              "\n",
              "#sk-container-id-1 label.sk-toggleable__label .caption {\n",
              "  font-size: 0.6rem;\n",
              "  font-weight: lighter;\n",
              "  color: var(--sklearn-color-text-muted);\n",
              "}\n",
              "\n",
              "#sk-container-id-1 label.sk-toggleable__label-arrow:before {\n",
              "  /* Arrow on the left of the label */\n",
              "  content: \"▸\";\n",
              "  float: left;\n",
              "  margin-right: 0.25em;\n",
              "  color: var(--sklearn-color-icon);\n",
              "}\n",
              "\n",
              "#sk-container-id-1 label.sk-toggleable__label-arrow:hover:before {\n",
              "  color: var(--sklearn-color-text);\n",
              "}\n",
              "\n",
              "/* Toggleable content - dropdown */\n",
              "\n",
              "#sk-container-id-1 div.sk-toggleable__content {\n",
              "  max-height: 0;\n",
              "  max-width: 0;\n",
              "  overflow: hidden;\n",
              "  text-align: left;\n",
              "  /* unfitted */\n",
              "  background-color: var(--sklearn-color-unfitted-level-0);\n",
              "}\n",
              "\n",
              "#sk-container-id-1 div.sk-toggleable__content.fitted {\n",
              "  /* fitted */\n",
              "  background-color: var(--sklearn-color-fitted-level-0);\n",
              "}\n",
              "\n",
              "#sk-container-id-1 div.sk-toggleable__content pre {\n",
              "  margin: 0.2em;\n",
              "  border-radius: 0.25em;\n",
              "  color: var(--sklearn-color-text);\n",
              "  /* unfitted */\n",
              "  background-color: var(--sklearn-color-unfitted-level-0);\n",
              "}\n",
              "\n",
              "#sk-container-id-1 div.sk-toggleable__content.fitted pre {\n",
              "  /* unfitted */\n",
              "  background-color: var(--sklearn-color-fitted-level-0);\n",
              "}\n",
              "\n",
              "#sk-container-id-1 input.sk-toggleable__control:checked~div.sk-toggleable__content {\n",
              "  /* Expand drop-down */\n",
              "  max-height: 200px;\n",
              "  max-width: 100%;\n",
              "  overflow: auto;\n",
              "}\n",
              "\n",
              "#sk-container-id-1 input.sk-toggleable__control:checked~label.sk-toggleable__label-arrow:before {\n",
              "  content: \"▾\";\n",
              "}\n",
              "\n",
              "/* Pipeline/ColumnTransformer-specific style */\n",
              "\n",
              "#sk-container-id-1 div.sk-label input.sk-toggleable__control:checked~label.sk-toggleable__label {\n",
              "  color: var(--sklearn-color-text);\n",
              "  background-color: var(--sklearn-color-unfitted-level-2);\n",
              "}\n",
              "\n",
              "#sk-container-id-1 div.sk-label.fitted input.sk-toggleable__control:checked~label.sk-toggleable__label {\n",
              "  background-color: var(--sklearn-color-fitted-level-2);\n",
              "}\n",
              "\n",
              "/* Estimator-specific style */\n",
              "\n",
              "/* Colorize estimator box */\n",
              "#sk-container-id-1 div.sk-estimator input.sk-toggleable__control:checked~label.sk-toggleable__label {\n",
              "  /* unfitted */\n",
              "  background-color: var(--sklearn-color-unfitted-level-2);\n",
              "}\n",
              "\n",
              "#sk-container-id-1 div.sk-estimator.fitted input.sk-toggleable__control:checked~label.sk-toggleable__label {\n",
              "  /* fitted */\n",
              "  background-color: var(--sklearn-color-fitted-level-2);\n",
              "}\n",
              "\n",
              "#sk-container-id-1 div.sk-label label.sk-toggleable__label,\n",
              "#sk-container-id-1 div.sk-label label {\n",
              "  /* The background is the default theme color */\n",
              "  color: var(--sklearn-color-text-on-default-background);\n",
              "}\n",
              "\n",
              "/* On hover, darken the color of the background */\n",
              "#sk-container-id-1 div.sk-label:hover label.sk-toggleable__label {\n",
              "  color: var(--sklearn-color-text);\n",
              "  background-color: var(--sklearn-color-unfitted-level-2);\n",
              "}\n",
              "\n",
              "/* Label box, darken color on hover, fitted */\n",
              "#sk-container-id-1 div.sk-label.fitted:hover label.sk-toggleable__label.fitted {\n",
              "  color: var(--sklearn-color-text);\n",
              "  background-color: var(--sklearn-color-fitted-level-2);\n",
              "}\n",
              "\n",
              "/* Estimator label */\n",
              "\n",
              "#sk-container-id-1 div.sk-label label {\n",
              "  font-family: monospace;\n",
              "  font-weight: bold;\n",
              "  display: inline-block;\n",
              "  line-height: 1.2em;\n",
              "}\n",
              "\n",
              "#sk-container-id-1 div.sk-label-container {\n",
              "  text-align: center;\n",
              "}\n",
              "\n",
              "/* Estimator-specific */\n",
              "#sk-container-id-1 div.sk-estimator {\n",
              "  font-family: monospace;\n",
              "  border: 1px dotted var(--sklearn-color-border-box);\n",
              "  border-radius: 0.25em;\n",
              "  box-sizing: border-box;\n",
              "  margin-bottom: 0.5em;\n",
              "  /* unfitted */\n",
              "  background-color: var(--sklearn-color-unfitted-level-0);\n",
              "}\n",
              "\n",
              "#sk-container-id-1 div.sk-estimator.fitted {\n",
              "  /* fitted */\n",
              "  background-color: var(--sklearn-color-fitted-level-0);\n",
              "}\n",
              "\n",
              "/* on hover */\n",
              "#sk-container-id-1 div.sk-estimator:hover {\n",
              "  /* unfitted */\n",
              "  background-color: var(--sklearn-color-unfitted-level-2);\n",
              "}\n",
              "\n",
              "#sk-container-id-1 div.sk-estimator.fitted:hover {\n",
              "  /* fitted */\n",
              "  background-color: var(--sklearn-color-fitted-level-2);\n",
              "}\n",
              "\n",
              "/* Specification for estimator info (e.g. \"i\" and \"?\") */\n",
              "\n",
              "/* Common style for \"i\" and \"?\" */\n",
              "\n",
              ".sk-estimator-doc-link,\n",
              "a:link.sk-estimator-doc-link,\n",
              "a:visited.sk-estimator-doc-link {\n",
              "  float: right;\n",
              "  font-size: smaller;\n",
              "  line-height: 1em;\n",
              "  font-family: monospace;\n",
              "  background-color: var(--sklearn-color-background);\n",
              "  border-radius: 1em;\n",
              "  height: 1em;\n",
              "  width: 1em;\n",
              "  text-decoration: none !important;\n",
              "  margin-left: 0.5em;\n",
              "  text-align: center;\n",
              "  /* unfitted */\n",
              "  border: var(--sklearn-color-unfitted-level-1) 1pt solid;\n",
              "  color: var(--sklearn-color-unfitted-level-1);\n",
              "}\n",
              "\n",
              ".sk-estimator-doc-link.fitted,\n",
              "a:link.sk-estimator-doc-link.fitted,\n",
              "a:visited.sk-estimator-doc-link.fitted {\n",
              "  /* fitted */\n",
              "  border: var(--sklearn-color-fitted-level-1) 1pt solid;\n",
              "  color: var(--sklearn-color-fitted-level-1);\n",
              "}\n",
              "\n",
              "/* On hover */\n",
              "div.sk-estimator:hover .sk-estimator-doc-link:hover,\n",
              ".sk-estimator-doc-link:hover,\n",
              "div.sk-label-container:hover .sk-estimator-doc-link:hover,\n",
              ".sk-estimator-doc-link:hover {\n",
              "  /* unfitted */\n",
              "  background-color: var(--sklearn-color-unfitted-level-3);\n",
              "  color: var(--sklearn-color-background);\n",
              "  text-decoration: none;\n",
              "}\n",
              "\n",
              "div.sk-estimator.fitted:hover .sk-estimator-doc-link.fitted:hover,\n",
              ".sk-estimator-doc-link.fitted:hover,\n",
              "div.sk-label-container:hover .sk-estimator-doc-link.fitted:hover,\n",
              ".sk-estimator-doc-link.fitted:hover {\n",
              "  /* fitted */\n",
              "  background-color: var(--sklearn-color-fitted-level-3);\n",
              "  color: var(--sklearn-color-background);\n",
              "  text-decoration: none;\n",
              "}\n",
              "\n",
              "/* Span, style for the box shown on hovering the info icon */\n",
              ".sk-estimator-doc-link span {\n",
              "  display: none;\n",
              "  z-index: 9999;\n",
              "  position: relative;\n",
              "  font-weight: normal;\n",
              "  right: .2ex;\n",
              "  padding: .5ex;\n",
              "  margin: .5ex;\n",
              "  width: min-content;\n",
              "  min-width: 20ex;\n",
              "  max-width: 50ex;\n",
              "  color: var(--sklearn-color-text);\n",
              "  box-shadow: 2pt 2pt 4pt #999;\n",
              "  /* unfitted */\n",
              "  background: var(--sklearn-color-unfitted-level-0);\n",
              "  border: .5pt solid var(--sklearn-color-unfitted-level-3);\n",
              "}\n",
              "\n",
              ".sk-estimator-doc-link.fitted span {\n",
              "  /* fitted */\n",
              "  background: var(--sklearn-color-fitted-level-0);\n",
              "  border: var(--sklearn-color-fitted-level-3);\n",
              "}\n",
              "\n",
              ".sk-estimator-doc-link:hover span {\n",
              "  display: block;\n",
              "}\n",
              "\n",
              "/* \"?\"-specific style due to the `<a>` HTML tag */\n",
              "\n",
              "#sk-container-id-1 a.estimator_doc_link {\n",
              "  float: right;\n",
              "  font-size: 1rem;\n",
              "  line-height: 1em;\n",
              "  font-family: monospace;\n",
              "  background-color: var(--sklearn-color-background);\n",
              "  border-radius: 1rem;\n",
              "  height: 1rem;\n",
              "  width: 1rem;\n",
              "  text-decoration: none;\n",
              "  /* unfitted */\n",
              "  color: var(--sklearn-color-unfitted-level-1);\n",
              "  border: var(--sklearn-color-unfitted-level-1) 1pt solid;\n",
              "}\n",
              "\n",
              "#sk-container-id-1 a.estimator_doc_link.fitted {\n",
              "  /* fitted */\n",
              "  border: var(--sklearn-color-fitted-level-1) 1pt solid;\n",
              "  color: var(--sklearn-color-fitted-level-1);\n",
              "}\n",
              "\n",
              "/* On hover */\n",
              "#sk-container-id-1 a.estimator_doc_link:hover {\n",
              "  /* unfitted */\n",
              "  background-color: var(--sklearn-color-unfitted-level-3);\n",
              "  color: var(--sklearn-color-background);\n",
              "  text-decoration: none;\n",
              "}\n",
              "\n",
              "#sk-container-id-1 a.estimator_doc_link.fitted:hover {\n",
              "  /* fitted */\n",
              "  background-color: var(--sklearn-color-fitted-level-3);\n",
              "}\n",
              "</style><div id=\"sk-container-id-1\" class=\"sk-top-container\"><div class=\"sk-text-repr-fallback\"><pre>LogisticRegression()</pre><b>In a Jupyter environment, please rerun this cell to show the HTML representation or trust the notebook. <br />On GitHub, the HTML representation is unable to render, please try loading this page with nbviewer.org.</b></div><div class=\"sk-container\" hidden><div class=\"sk-item\"><div class=\"sk-estimator fitted sk-toggleable\"><input class=\"sk-toggleable__control sk-hidden--visually\" id=\"sk-estimator-id-1\" type=\"checkbox\" checked><label for=\"sk-estimator-id-1\" class=\"sk-toggleable__label fitted sk-toggleable__label-arrow\"><div><div>LogisticRegression</div></div><div><a class=\"sk-estimator-doc-link fitted\" rel=\"noreferrer\" target=\"_blank\" href=\"https://scikit-learn.org/1.6/modules/generated/sklearn.linear_model.LogisticRegression.html\">?<span>Documentation for LogisticRegression</span></a><span class=\"sk-estimator-doc-link fitted\">i<span>Fitted</span></span></div></label><div class=\"sk-toggleable__content fitted\"><pre>LogisticRegression()</pre></div> </div></div></div></div>"
            ]
          },
          "metadata": {},
          "execution_count": 54
        }
      ]
    },
    {
      "cell_type": "markdown",
      "source": [
        "Step 3: Model Evaluation\n",
        "After training the classifier, we evaluate its performance using the test data. Key metrics such as the confusion matrix and classification report (accuracy, precision, recall, F1-score) show how well the model distinguishes crime hotspots from non-hotspots. This evaluation helps assess its reliability for real-world decision-making."
      ],
      "metadata": {
        "id": "MmHgOIHCWXmj"
      }
    },
    {
      "cell_type": "code",
      "source": [
        "from sklearn.metrics import confusion_matrix, classification_report\n",
        "\n",
        "# Predictions on the test set\n",
        "y_pred = model.predict(X_test)\n",
        "\n",
        "# Evaluation metrics\n",
        "print(\"Confusion Matrix:\")\n",
        "print(confusion_matrix(y_test, y_pred))\n",
        "\n",
        "print(\"\\nClassification Report:\")\n",
        "print(classification_report(y_test, y_pred))\n"
      ],
      "metadata": {
        "colab": {
          "base_uri": "https://localhost:8080/"
        },
        "id": "0nEqWtsbWbE5",
        "outputId": "e1f5f114-94a2-4ede-b914-3070524364a0"
      },
      "execution_count": 55,
      "outputs": [
        {
          "output_type": "stream",
          "name": "stdout",
          "text": [
            "Confusion Matrix:\n",
            "[[3]]\n",
            "\n",
            "Classification Report:\n",
            "              precision    recall  f1-score   support\n",
            "\n",
            "           0       1.00      1.00      1.00         3\n",
            "\n",
            "    accuracy                           1.00         3\n",
            "   macro avg       1.00      1.00      1.00         3\n",
            "weighted avg       1.00      1.00      1.00         3\n",
            "\n"
          ]
        },
        {
          "output_type": "stream",
          "name": "stderr",
          "text": [
            "/usr/local/lib/python3.12/dist-packages/sklearn/metrics/_classification.py:407: UserWarning: A single label was found in 'y_true' and 'y_pred'. For the confusion matrix to have the correct shape, use the 'labels' parameter to pass all known labels.\n",
            "  warnings.warn(\n"
          ]
        }
      ]
    },
    {
      "cell_type": "markdown",
      "source": [
        " Interpreting Classification Results\n",
        "The classification report and confusion matrix provide insight into the performance of your crime hotspot prediction model. High accuracy, precision, and recall indicate the model reliably identifies actual hotspots and minimizes false alarms. These metrics help determine whether the model can be used confidently to guide resource allocation, or if further feature engineering and model refinement are needed."
      ],
      "metadata": {
        "id": "usKa2o-TWlDa"
      }
    },
    {
      "cell_type": "markdown",
      "source": [
        " Interpreting Classification Results\n",
        "Evaluating the confusion matrix and classification report allows us to measure how well the model identifies actual crime hotspots and avoids misclassifications. High accuracy, precision, and recall indicate effective prediction, helping decision-makers rely on the model for real-world policing strategies. If performance is low, further data cleaning, feature engineering, or model tuning should be considered before deployment."
      ],
      "metadata": {
        "id": "T2Q4sx_TWw4c"
      }
    },
    {
      "cell_type": "markdown",
      "source": [
        "Outlier Detection in Time Series\n",
        "Identifying outliers in crime time series data helps ensure your forecasting model is trained on genuine patterns, not random anomalies or data errors. Outlier detection is a key data preparation step for building robust and accurate predictions."
      ],
      "metadata": {
        "id": "elVY5stCan-n"
      }
    },
    {
      "cell_type": "code",
      "source": [
        "import pandas as pd\n",
        "import matplotlib.pyplot as plt\n",
        "\n",
        "# Boxplot for outlier detection\n",
        "plt.figure(figsize=(8, 6))\n",
        "plt.boxplot(df['Crime_Count'], vert=False)\n",
        "plt.title('Boxplot for Crime Incident Outliers')\n",
        "plt.xlabel('Incident Count')\n",
        "plt.grid(True)\n",
        "plt.show()\n"
      ],
      "metadata": {
        "colab": {
          "base_uri": "https://localhost:8080/",
          "height": 564
        },
        "id": "BJQBgdTiapV-",
        "outputId": "3e09b68f-fbc7-4ed8-8a2a-588b8233b604"
      },
      "execution_count": 60,
      "outputs": [
        {
          "output_type": "display_data",
          "data": {
            "text/plain": [
              "<Figure size 800x600 with 1 Axes>"
            ],
            "image/png": "[encoded data removed]"
          },
          "metadata": {}
        }
      ]
    },
    {
      "cell_type": "markdown",
      "source": [
        "If I do not find any outliers in my time series data, it means my data is consistent without unusual spikes or drops that could distort the forecasting model. In this case, I can proceed directly to building and fitting the forecasting model without any extra treatment for outliers. This means my forecast accuracy and reliability will likely be better because the data reflects true crime patterns. However, I will always re-check for outliers when new data is added or if I notice poor forecasting performance later on.\n",
        "\n",
        "If I do detect outliers, I will investigate their causes and decide whether to remove, smooth, or use modeling methods that are robust to anomalies, to make sure my model learns the genuine trends rather than noise."
      ],
      "metadata": {
        "id": "JU8cRBjEbbbj"
      }
    },
    {
      "cell_type": "code",
      "source": [
        "import numpy as np\n",
        "\n",
        "# Calculate rolling mean and std to account for temporal dependency\n",
        "rolling_mean = df['Crime_Count'].rolling(window=3, center=True).mean()\n",
        "rolling_std = df['Crime_Count'].rolling(window=3, center=True).std()\n",
        "\n",
        "# Calculate z-score (standardized deviation)\n",
        "z_scores = (df['Crime_Count'] - rolling_mean) / rolling_std\n",
        "\n",
        "# Flag points with |z| > threshold (e.g., 2 or 3)\n",
        "threshold = 2\n",
        "outliers = z_scores.abs() > threshold\n",
        "\n",
        "print(\"Outliers detected at:\")\n",
        "print(df[outliers])\n"
      ],
      "metadata": {
        "colab": {
          "base_uri": "https://localhost:8080/"
        },
        "id": "k9QGR9GWbc1t",
        "outputId": "06f6a32f-0d42-4695-9c4f-159f13e7f759"
      },
      "execution_count": 61,
      "outputs": [
        {
          "output_type": "stream",
          "name": "stdout",
          "text": [
            "Outliers detected at:\n",
            "Empty DataFrame\n",
            "Columns: [Crime_Count]\n",
            "Index: []\n"
          ]
        }
      ]
    },
    {
      "cell_type": "markdown",
      "source": [
        "Time Series Forecasting of Crime Trends\n",
        "The goal is to analyze and predict future crime incident trends for a specific crime category and location. This process starts with preparing the time series data and visualizing it to understand the patterns and readiness for modeling."
      ],
      "metadata": {
        "id": "_ikCuPDsXszR"
      }
    },
    {
      "cell_type": "markdown",
      "source": [
        "Step 1: Prepare and Visualize the Time Series\n",
        "Before forecasting, select a single crime type (such as burglary or assault) for one location (precinct, city, etc.), and plot its incident counts over time. This helps reveal patterns, seasonality, and any data issues."
      ],
      "metadata": {
        "id": "8wLF2h3kXcwK"
      }
    },
    {
      "cell_type": "markdown",
      "source": [],
      "metadata": {
        "id": "6ZjvGZHqal28"
      }
    },
    {
      "cell_type": "code",
      "source": [
        "import pandas as pd\n",
        "import matplotlib.pyplot as plt\n",
        "\n",
        "# Example data - replace with actual time series data\n",
        "data = {\n",
        "    'Month': pd.date_range(start='2022-01-01', periods=24, freq='M'),\n",
        "    'Crime_Count': [20, 22, 19, 25, 30, 28, 32, 35, 27, 29, 34, 31, 35, 37, 40, 44, 39, 41, 38, 36, 34, 32, 30, 28]\n",
        "}\n",
        "df = pd.DataFrame(data).set_index('Month')\n",
        "\n",
        "# Plot time series\n",
        "plt.figure(figsize=(10,6))\n",
        "plt.plot(df.index, df['Crime_Count'], marker='o')\n",
        "plt.title('Monthly Incident Counts for Selected Crime Type')\n",
        "plt.xlabel('Month')\n",
        "plt.ylabel('Number of Incidents')\n",
        "plt.grid(True)\n",
        "plt.tight_layout()\n",
        "plt.show()\n"
      ],
      "metadata": {
        "colab": {
          "base_uri": "https://localhost:8080/",
          "height": 642
        },
        "id": "_lTlXOt6XOwG",
        "outputId": "a0ae58fe-9255-40fd-d0cf-75247b10f1cb"
      },
      "execution_count": 56,
      "outputs": [
        {
          "output_type": "stream",
          "name": "stderr",
          "text": [
            "/tmp/ipython-input-431266883.py:6: FutureWarning: 'M' is deprecated and will be removed in a future version, please use 'ME' instead.\n",
            "  'Month': pd.date_range(start='2022-01-01', periods=24, freq='M'),\n"
          ]
        },
        {
          "output_type": "display_data",
          "data": {
            "text/plain": [
              "<Figure size 1000x600 with 1 Axes>"
            ],
            "image/png": "[encoded data removed]"
          },
          "metadata": {}
        }
      ]
    },
    {
      "cell_type": "markdown",
      "source": [
        "Step 2: Fit a Time Series Forecasting Model\n",
        "In this step, you apply a forecasting algorithm—such as Facebook Prophet—to model the trend and seasonality in your crime data. The model will generate predictions for future months, along with confidence intervals to express uncertainty. This forecast helps decision-makers anticipate crime surges or declines and allocate resources proactively."
      ],
      "metadata": {
        "id": "Nkgrx2EHYCKZ"
      }
    },
    {
      "cell_type": "code",
      "source": [
        "from prophet import Prophet\n",
        "import pandas as pd\n",
        "\n",
        "# Prepare data in Prophet's expected format: columns 'ds' (date) and 'y' (value)\n",
        "df_prophet = df.reset_index().rename(columns={'Month': 'ds', 'Crime_Count': 'y'})\n",
        "\n",
        "# Initialize and fit the Prophet model\n",
        "model = Prophet()\n",
        "model.fit(df_prophet)\n",
        "\n",
        "# Create a dataframe to hold predictions for next 12 months\n",
        "future = model.make_future_dataframe(periods=12, freq='M')\n",
        "\n",
        "# Generate forecast\n",
        "forecast = model.predict(future)\n",
        "\n",
        "# Plot the forecast including confidence intervals\n",
        "model.plot(forecast).show()\n"
      ],
      "metadata": {
        "colab": {
          "base_uri": "https://localhost:8080/",
          "height": 887
        },
        "id": "tiJau1LHYIyN",
        "outputId": "0f9aa49b-7337-4337-bd1e-b5868e3818b2"
      },
      "execution_count": 57,
      "outputs": [
        {
          "output_type": "stream",
          "name": "stderr",
          "text": [
            "INFO:prophet:Disabling yearly seasonality. Run prophet with yearly_seasonality=True to override this.\n",
            "INFO:prophet:Disabling weekly seasonality. Run prophet with weekly_seasonality=True to override this.\n",
            "INFO:prophet:Disabling daily seasonality. Run prophet with daily_seasonality=True to override this.\n",
            "INFO:prophet:n_changepoints greater than number of observations. Using 18.\n",
            "DEBUG:cmdstanpy:input tempfile: /tmp/tmp7mjollf9/cqsr3smo.json\n",
            "DEBUG:cmdstanpy:input tempfile: /tmp/tmp7mjollf9/7ko6tpnm.json\n",
            "DEBUG:cmdstanpy:idx 0\n",
            "DEBUG:cmdstanpy:running CmdStan, num_threads: None\n",
            "DEBUG:cmdstanpy:CmdStan args: ['/usr/local/lib/python3.12/dist-packages/prophet/stan_model/prophet_model.bin', 'random', 'seed=65353', 'data', 'file=/tmp/tmp7mjollf9/cqsr3smo.json', 'init=/tmp/tmp7mjollf9/7ko6tpnm.json', 'output', 'file=/tmp/tmp7mjollf9/prophet_modelbgns1v78/prophet_model-20251006115544.csv', 'method=optimize', 'algorithm=newton', 'iter=10000']\n",
            "11:55:44 - cmdstanpy - INFO - Chain [1] start processing\n",
            "INFO:cmdstanpy:Chain [1] start processing\n",
            "11:55:44 - cmdstanpy - INFO - Chain [1] done processing\n",
            "INFO:cmdstanpy:Chain [1] done processing\n",
            "/usr/local/lib/python3.12/dist-packages/prophet/forecaster.py:1872: FutureWarning: 'M' is deprecated and will be removed in a future version, please use 'ME' instead.\n",
            "  dates = pd.date_range(\n"
          ]
        },
        {
          "output_type": "display_data",
          "data": {
            "text/plain": [
              "<Figure size 1000x600 with 1 Axes>"
            ],
            "image/png": "[encoded data removed]"
          },
          "metadata": {}
        }
      ]
    },
    {
      "cell_type": "markdown",
      "source": [
        "Step 3: Interpret and Communicate the Forecast Results\n",
        "The predicted values from the forecasting model reveal likely patterns in future crime incidents, such as periods of increased or decreased activity. Peaks and troughs indicate possible seasonal effects (e.g., higher risk in certain months), while confidence intervals show the range of plausible outcomes. These insights empower decision-makers to plan targeted interventions, allocate resources proactively, and prepare for specific crime surges—such as deploying more patrols during forecasted high-risk months or adjusting strategies if a downward trend is seen."
      ],
      "metadata": {
        "id": "odfeo0XCYd6O"
      }
    },
    {
      "cell_type": "markdown",
      "source": [
        "Interpret and Evaluate Forecast Accuracy\n",
        "If you have actual “future” crime data (not used for training), you can compare it to your model’s predicted values using metrics like Mean Absolute Error (MAE) or Root Mean Squared Error (RMSE), which are standard for time series evaluation."
      ],
      "metadata": {
        "id": "l5KTfBv7ZdUi"
      }
    },
    {
      "cell_type": "code",
      "source": [
        "from sklearn.metrics import mean_absolute_error, mean_squared_error\n",
        "import numpy as np\n",
        "\n",
        "# Suppose you have actual observed values for the future period\n",
        "# Replace these with your true observed values for the forecasted period\n",
        "actual = [29, 32, 31, 34, 36, 35, 33, 31, 28, 26, 25, 27]  # Example for 12 months\n",
        "\n",
        "# Get forecasted values from Prophet output for the same period\n",
        "forecasted = forecast.tail(12)['yhat'].values\n",
        "\n",
        "# Calculate MAE and RMSE\n",
        "mae = mean_absolute_error(actual, forecasted)\n",
        "rmse = np.sqrt(mean_squared_error(actual, forecasted))\n",
        "\n",
        "print(f\"Mean Absolute Error (MAE): {mae:.2f}\")\n",
        "print(f\"Root Mean Squared Error (RMSE): {rmse:.2f}\")\n"
      ],
      "metadata": {
        "colab": {
          "base_uri": "https://localhost:8080/"
        },
        "id": "ZrUJKsTBZ-85",
        "outputId": "fa09991b-51c0-498e-bb30-81b6d23858df"
      },
      "execution_count": 58,
      "outputs": [
        {
          "output_type": "stream",
          "name": "stdout",
          "text": [
            "Mean Absolute Error (MAE): 11.46\n",
            "Root Mean Squared Error (RMSE): 12.44\n"
          ]
        }
      ]
    },
    {
      "cell_type": "markdown",
      "source": [
        "## Conclusion\n",
        "\n",
        "This analysis demonstrates how machine learning and interactive dashboards can transform raw South African crime data into actionable insights. By building classification models to identify crime hotspots and forecasting trends across multiple crime categories, this solution provides support for data-driven policing and policy interventions. The addition of a drone simulation further illustrates how advanced technologies can be integrated to optimize patrol strategies in high-risk areas.\n",
        "\n",
        "Overall, this project showcases the practical impact of combining open data, predictive modeling, and visualization tools to improve public safety outcomes in South Africa.\n"
      ],
      "metadata": {
        "id": "jyDZ_JBelpqd"
      }
    },
    {
      "cell_type": "markdown",
      "source": [],
      "metadata": {
        "id": "DY_EKQivYH44"
      }
    }
  ]
}